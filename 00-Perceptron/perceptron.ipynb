{
 "cells": [
  {
   "cell_type": "markdown",
   "metadata": {},
   "source": [
    "# 感知器实现\n",
    "\n",
    "![在这里插入图片描述](https://img-blog.csdnimg.cn/4d9b65edfd0145a7b6132561fd47fa2b.png)"
   ]
  },
  {
   "cell_type": "markdown",
   "metadata": {},
   "source": [
    "## 感知器类构造"
   ]
  },
  {
   "cell_type": "code",
   "execution_count": 11,
   "metadata": {},
   "outputs": [],
   "source": [
    "from functools import reduce\n",
    "\n",
    "\n",
    "class Perceptron:\n",
    "    def __init__(self, input_num, activator) -> None:\n",
    "        \"\"\"_summary_\n",
    "        初始化感知器，设置输入参数的个数，以及激活函数。\n",
    "        激活函数的类型为double -> double\n",
    "        Args:\n",
    "            input_num (_type_): _description_\n",
    "            activator (_type_): _description_\n",
    "        \"\"\"\n",
    "        self.activator =activator\n",
    "        # 权重向量初始化为0\n",
    "        self.weights = [0.0 for _ in range(input_num)]\n",
    "        #  偏置项初始化为0\n",
    "        self.bias =0.0\n",
    "        self.input_num = input_num\n",
    "    def __str__(self) -> str:\n",
    "        \"\"\"        \n",
    "        打印学习到的权重、偏置项\n",
    "        Returns:\n",
    "            str: _description_\n",
    "        \"\"\"\n",
    "        return 'weights\\t:%s\\nbias\\t:%f\\n' % (self.weights, self.bias)\n",
    "    \n",
    "    def predict(self, input_vec):\n",
    "        \"\"\"_summary_\n",
    "        输入向量，输出感知器的计算结果\n",
    "        Args:\n",
    "            input_vec (_type_): _description_\n",
    "        把input_vec[x1,x2,x3...]和weights[w1,w2,w3,...]打包在一起\n",
    "        变成[(x1,w1),(x2,w2),(x3,w3),...]\n",
    "\n",
    "        \"\"\"\n",
    "        sum = 0\n",
    "        for x, w in zip(input_vec, self.weights):\n",
    "            sum += x*w\n",
    "            sum += self.bias\n",
    "        return self.activator(sum)\n",
    "       \n",
    "    def train(self, input_vecs, labels,iteration,learning_rate):\n",
    "        \"\"\"_summary_\n",
    "        输入训练数据：一组向量、与每个向量对应的label；以及训练轮数、学习率\n",
    "        Args:\n",
    "            input_vecs (_type_): _description_\n",
    "            labels (_type_): _description_\n",
    "            iteration (_type_): _description_\n",
    "            learning_rate (_type_): _description_\n",
    "        \"\"\"\n",
    "        for i in range(iteration):\n",
    "            self._one_iteration(input_vecs,labels,learning_rate)\n",
    "    \n",
    "    def _one_iteration(self,input_vecs, labels,learning_rate):\n",
    "        \"\"\"_summary_\n",
    "        一次迭代，把所有的训练数据过一遍\n",
    "        把输入和输出打包在一起，成为样本的列表[(input_vec, label), ...]\n",
    "        而每个训练样本是(input_vec, label)\n",
    "        Args:\n",
    "            input_vecs (_type_): _description_\n",
    "            labels (_type_): _description_\n",
    "            learning_rate (_type_): _description_\n",
    "        \"\"\"\n",
    "\n",
    "        for input_vec, label in zip(input_vecs,labels):\n",
    "            output = self.predict(input_vec)\n",
    "            self._update_weights(input_vec,output,label,learning_rate)\n",
    "\n",
    "    def _update_weights(self,input_vec,output,label,learning_rate):\n",
    "        '''\n",
    "        按照感知器规则更新权重\n",
    "        把input_vec[x1,x2,x3,...]和weights[w1,w2,w3,...]打包在一起\n",
    "        变成[(x1,w1),(x2,w2),(x3,w3),...]\n",
    "        然后利用感知器规则更新权重\n",
    "        '''\n",
    "\n",
    "        delta = label - output\n",
    "        self.weights = [w + learning_rate * delta * x for x, w in zip(input_vec, self.weights) ]\n",
    "\n",
    "        # 更新bias\n",
    "        self.bias += learning_rate * delta"
   ]
  },
  {
   "cell_type": "markdown",
   "metadata": {},
   "source": [
    "## 使用感知器实现and函数\n",
    "\n",
    "![在这里插入图片描述](https://img-blog.csdnimg.cn/90eee2c2c1484940a4a37e2f17906b13.png)"
   ]
  },
  {
   "cell_type": "code",
   "execution_count": 2,
   "metadata": {},
   "outputs": [],
   "source": [
    "def f(x):\n",
    "    \"\"\"_summary_\n",
    "    定义激活函数\n",
    "    Args:\n",
    "        x (_type_): _description_\n",
    "    \"\"\"\n",
    "    return 1 if x>0 else 0\n"
   ]
  },
  {
   "cell_type": "code",
   "execution_count": 3,
   "metadata": {},
   "outputs": [],
   "source": [
    "def get_training_dataset():\n",
    "    \"\"\"\n",
    "    基于and真值表构建训练数据\n",
    "    [1,1] -> 1, [0,0] -> 0, [1,0] -> 0, [0,1] -> 0\n",
    "    \"\"\"\n",
    "    # 构建训练数据\n",
    "    # 输入向量列表\n",
    "    input_vecs = [[1,1],[0,0],[1,0],[0,1]]\n",
    "    # 期望的输出列表，注意要与输入一一对应\n",
    "    labels = [1,0,0,0]\n",
    "    return input_vecs, labels\n"
   ]
  },
  {
   "cell_type": "code",
   "execution_count": 4,
   "metadata": {},
   "outputs": [],
   "source": [
    "def training_and_perceptron():\n",
    "    \"\"\"_summary_\n",
    "    使用and真值表训练感知器\n",
    "    \"\"\"\n",
    "    # 创建感知器，输入参数个数为2（因为and是二元函数），激活函数为f\n",
    "    p = Perceptron(2, f)\n",
    "    # 训练，迭代10轮, 学习速率为0.1\n",
    "    input_vecs, labels = get_training_dataset()\n",
    "    p.train(input_vecs, labels, 10, 0.1)\n",
    "    #返回训练好的感知器\n",
    "    return p"
   ]
  },
  {
   "cell_type": "code",
   "execution_count": 12,
   "metadata": {},
   "outputs": [
    {
     "name": "stdout",
     "output_type": "stream",
     "text": [
      "weights\t:[0.2, 0.20000000000000004]\n",
      "bias\t:-0.200000\n",
      "\n",
      "1 and 1 = 1\n",
      "0 and 0 = 0\n",
      "1 and 0 = 0\n",
      "0 and 1 = 0\n"
     ]
    }
   ],
   "source": [
    "# 训练and感知器\n",
    "and_perception = training_and_perceptron()\n",
    "# 打印训练获得的权重\n",
    "print(and_perception)\n",
    "# 测试\n",
    "print('1 and 1 = %d' % and_perception.predict([1, 1]))\n",
    "print('0 and 0 = %d' % and_perception.predict([0, 0]))\n",
    "print('1 and 0 = %d' % and_perception.predict([1, 0]))\n",
    "print('0 and 1 = %d' % and_perception.predict([0, 1]))\n"
   ]
  }
 ],
 "metadata": {
  "interpreter": {
   "hash": "232f66ea714acf063792c091ef59ab4fef0f08291e88ae72d9c0d0d8efc52143"
  },
  "kernelspec": {
   "display_name": "Python 3.8.12 ('gobigger')",
   "language": "python",
   "name": "python3"
  },
  "language_info": {
   "codemirror_mode": {
    "name": "ipython",
    "version": 3
   },
   "file_extension": ".py",
   "mimetype": "text/x-python",
   "name": "python",
   "nbconvert_exporter": "python",
   "pygments_lexer": "ipython3",
   "version": "3.8.12"
  },
  "orig_nbformat": 4
 },
 "nbformat": 4,
 "nbformat_minor": 2
}
