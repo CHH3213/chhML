{
 "cells": [
  {
   "cell_type": "markdown",
   "metadata": {},
   "source": [
    "### 高斯混合模型\n",
    "\n",
    "模拟两个正态分布的参数"
   ]
  },
  {
   "cell_type": "code",
   "execution_count": 1,
   "metadata": {},
   "outputs": [],
   "source": [
    "\n",
    "\n",
    "from numpy import *\n",
    "import numpy as np\n",
    "import random\n",
    "import copy\n",
    "import matplotlib.pyplot as plt\n",
    "import math\n",
    "import matplotlib.mlab as mlab\n"
   ]
  },
  {
   "cell_type": "markdown",
   "metadata": {},
   "source": [
    "### 生成均值不同的样本\n"
   ]
  },
  {
   "cell_type": "code",
   "execution_count": 15,
   "metadata": {},
   "outputs": [],
   "source": [
    "EPS = 1e-4\n",
    "def generate_data():\n",
    "    mu1=2\n",
    "    mu2=6\n",
    "    sigma1=0.1\n",
    "    sigma2=0.5\n",
    "    alpha1=0.4\n",
    "    alpha2=0.6\n",
    "    N=5000\n",
    "    N1=int(alpha1*N)\n",
    "    X = mat(zeros((N,1)))\n",
    "    for i in range(N1):\n",
    "        u1 = random.uniform(-1,1)\n",
    "        X[i] = u1*sigma1+mu1\n",
    "    for i in range(N-N1):\n",
    "        u1 = random.uniform(-1,1)\n",
    "        X[i+N1] = u1*sigma2+mu2\n",
    "    return X"
   ]
  },
  {
   "cell_type": "markdown",
   "metadata": {},
   "source": [
    "EM算法"
   ]
  },
  {
   "cell_type": "code",
   "execution_count": 6,
   "metadata": {},
   "outputs": [],
   "source": [
    "def GMM(X):\n",
    "\tk = 2\n",
    "\tN = len(X)\n",
    "\tmu = np.random.rand(k,1)\n",
    "\tprint('init mu=',mu)\n",
    "\tPosterior = mat(zeros((N,k)))\t\n",
    "\tsigma = np.random.rand(k,1)\n",
    "\tprint ('init sigma=',sigma)\n",
    "\talpha = np.random.rand(k,1)\n",
    "\tdominator = 0\n",
    "\tnumerator = 0\n",
    "\tprint ('init alpha=',alpha)\n",
    "\t#先求后验概率\n",
    "\t#print (sigma)\n",
    "\tfor it in range(1000):\n",
    "\t\tfor i in range(N):\n",
    "\t\t\tdominator = 0\n",
    "\t\t\tfor j in range(k):\n",
    "\t\t\t\tdominator = dominator + np.exp(-1.0/(2.0*sigma[j]) * (X[i] - mu[j])**2)\n",
    "\t\t\t\t#print -1.0/(2.0*sigma[j]),(X[i] - mu[j])**2,-1.0/(2.0*sigma[j]) * (X[i] - mu[j])**2,np.exp(-1.0/(2.0*sigma[j]) * (X[i] - mu[j])**2)\n",
    "\t\t\t\t#return\n",
    "\t\t\tfor j in range(k):\n",
    "\t\t\t\tnumerator = np.exp(-1.0/(2.0*sigma[j]) * (X[i] - mu[j])**2)\n",
    "\t\t\t\tPosterior[i,j] = numerator/dominator\t\t\t\n",
    "\t\toldmu = copy.deepcopy(mu)\n",
    "\t\toldalpha = copy.deepcopy(alpha)\n",
    "\t\toldsigma = copy.deepcopy(sigma)\n",
    "\t\t#最大化\t\n",
    "\t\tfor j in range(k):\n",
    "\t\t\tnumerator = 0\n",
    "\t\t\tdominator = 0\n",
    "\t\t\tfor i in range(N):\n",
    "\t\t\t\tnumerator = numerator + Posterior[i,j] * X[i]\n",
    "\t\t\t\tdominator = dominator + Posterior[i,j]\n",
    "\t\t\tmu[j] = numerator/dominator\n",
    "\t\t\talpha[j] = dominator/N\n",
    "\t\t\ttmp = 0\n",
    "\t\t\tfor i in range(N):\n",
    "\t\t\t\ttmp = tmp + Posterior[i,j] * (X[i] - mu[j])**2\n",
    "\t\t\t\t#print tmp,Posterior[i,j],(X[i] - mu[j])**2 \n",
    "\t\t\tsigma[j] = tmp/dominator\n",
    "\t\t\t#print (tmp)\n",
    "\t\t\t#print (dominator)\n",
    "\t\t\t#print (sigma[j])\n",
    "\t\tif ((abs(mu - oldmu)).sum() < EPS) and \\\n",
    "\t\t\t((abs(alpha - oldalpha)).sum() < EPS) and \\\n",
    "\t\t\t((abs(sigma - oldsigma)).sum() < EPS):\n",
    "\t\t\t\tprint (str('final mu=')) \n",
    "\t\t\t\tprint (str(mu))\n",
    "\t\t\t\tprint (str('final sigma='))\n",
    "\t\t\t\tprint (str(sigma))\n",
    "\t\t\t\tprint (str('final alpha='))\n",
    "\t\t\t\tprint (str(alpha))\n",
    "\t\t\t\tprint (it)\n",
    "\t\t\t\tbreak"
   ]
  },
  {
   "cell_type": "markdown",
   "metadata": {},
   "source": [
    "### Main启动"
   ]
  },
  {
   "cell_type": "code",
   "execution_count": 17,
   "metadata": {},
   "outputs": [
    {
     "data": {
      "image/png": "[encoded data removed]",
      "text/plain": [
       "<Figure size 432x288 with 1 Axes>"
      ]
     },
     "metadata": {
      "needs_background": "light"
     },
     "output_type": "display_data"
    },
    {
     "name": "stdout",
     "output_type": "stream",
     "text": [
      "init mu= [[0.55904491]\n",
      " [0.10095519]]\n",
      "init sigma= [[0.19478225]\n",
      " [0.83838078]]\n",
      "init alpha= [[0.24434726]\n",
      " [0.52521789]]\n",
      "final mu=\n",
      "[[1.99951968]\n",
      " [6.01070331]]\n",
      "final sigma=\n",
      "[[0.00337386]\n",
      " [0.08105665]]\n",
      "final alpha=\n",
      "[[0.4]\n",
      " [0.6]]\n",
      "6\n"
     ]
    }
   ],
   "source": [
    "\n",
    "\n",
    "X = generate_data()\n",
    "plt.hist(X, 30)\n",
    "plt.show()\n",
    "GMM(X)\t\n",
    "\n"
   ]
  },
  {
   "cell_type": "code",
   "execution_count": null,
   "metadata": {},
   "outputs": [],
   "source": []
  }
 ],
 "metadata": {
  "interpreter": {
   "hash": "232f66ea714acf063792c091ef59ab4fef0f08291e88ae72d9c0d0d8efc52143"
  },
  "kernelspec": {
   "display_name": "Python 3.8.12 ('gobigger')",
   "language": "python",
   "name": "python3"
  },
  "language_info": {
   "codemirror_mode": {
    "name": "ipython",
    "version": 3
   },
   "file_extension": ".py",
   "mimetype": "text/x-python",
   "name": "python",
   "nbconvert_exporter": "python",
   "pygments_lexer": "ipython3",
   "version": "3.8.12"
  },
  "orig_nbformat": 4
 },
 "nbformat": 4,
 "nbformat_minor": 2
}
