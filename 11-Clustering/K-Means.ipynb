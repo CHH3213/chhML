{
 "cells": [
  {
   "cell_type": "markdown",
   "metadata": {},
   "source": [
    "## K-means 算法演示"
   ]
  },
  {
   "cell_type": "code",
   "execution_count": 1,
   "metadata": {},
   "outputs": [],
   "source": [
    "import os\n",
    "import sys as sys\n",
    "#reload(sys)\n",
    "#sys.setdefaultencoding('utf-8')\n",
    "from sklearn.cluster import KMeans\n",
    "from sklearn import feature_extraction\n",
    "from sklearn.feature_extraction.text import TfidfTransformer\n",
    "from sklearn.feature_extraction.text import CountVectorizer\n",
    "\n",
    "import matplotlib.pyplot as plt \n",
    "from matplotlib.font_manager import FontProperties \n",
    "from sklearn.cluster import KMeans \n",
    "from scipy.spatial.distance import cdist \n",
    "import numpy as np"
   ]
  },
  {
   "cell_type": "markdown",
   "metadata": {},
   "source": [
    "### 数据预处理"
   ]
  },
  {
   "cell_type": "markdown",
   "metadata": {},
   "source": [
    "vectorize the input documents"
   ]
  },
  {
   "cell_type": "code",
   "execution_count": 2,
   "metadata": {},
   "outputs": [],
   "source": [
    "\n",
    "\n",
    "def tfidf_vector(corpus_path):\n",
    "    corpus_train=[]\n",
    "    #利用train-corpus提取特征\n",
    "    target_train=[]\n",
    "    for line in open(corpus_path):\n",
    "        line=line.strip().split('\\t')\n",
    "        if len(line)==2:\n",
    "            words=line[1]\n",
    "            category=line[0]\n",
    "            target_train.append(category)\n",
    "            corpus_train.append(words)\n",
    "    print (\"build train-corpus done!!\")\n",
    "    count_v1= CountVectorizer(max_df=0.4,min_df=0.01)\n",
    "    counts_train = count_v1.fit_transform(corpus_train)  \n",
    "    \n",
    "    word_dict={}\n",
    "    for index,word in enumerate(count_v1.get_feature_names()):\n",
    "        word_dict[index]=word\n",
    "    \n",
    "    print (\"the shape of train is \")\n",
    "    print (repr(counts_train.shape))\n",
    "    tfidftransformer = TfidfTransformer()\n",
    "    tfidf_train = tfidftransformer.fit(counts_train).transform(counts_train)\n",
    "    return tfidf_train,word_dict\n",
    "\n"
   ]
  },
  {
   "cell_type": "markdown",
   "metadata": {},
   "source": [
    "\n",
    "\n",
    "topic cluster\n"
   ]
  },
  {
   "cell_type": "code",
   "execution_count": 3,
   "metadata": {},
   "outputs": [],
   "source": [
    "def cluster_kmeans(tfidf_train,word_dict,cluster_docs,cluster_keywords,num_clusters):#K均值分类\n",
    "    f_docs=open(cluster_docs,'w+')\n",
    "    km = KMeans(n_clusters=num_clusters)\n",
    "    km.fit(tfidf_train)\n",
    "    clusters = km.labels_.tolist()\n",
    "    cluster_dict={}\n",
    "    order_centroids = km.cluster_centers_.argsort()[:, ::-1]      \n",
    "    doc=1\n",
    "    for cluster in clusters:\n",
    "        f_docs.write(str(str(doc))+','+str(cluster)+'\\n')\n",
    "        doc+=1\n",
    "        if cluster not in cluster_dict:\n",
    "            cluster_dict[cluster]=1\n",
    "        else:\n",
    "            cluster_dict[cluster]+=1\n",
    "    f_docs.close()\n",
    "    cluster=1\n",
    "    \n",
    "    f_clusterwords = open(cluster_keywords,'w+')\n",
    "    for ind in order_centroids: # 每个聚类选 50 个词\n",
    "        words=[]\n",
    "        for index in ind[:50]:\n",
    "            words.append(word_dict[index])\n",
    "        print (cluster),(','.join(words))\n",
    "        f_clusterwords.write(str(cluster)+'\\t'+','.join(words)+'\\n')\n",
    "        cluster+=1\n",
    "        print ('*****'*5)\n",
    "    f_clusterwords.close()"
   ]
  },
  {
   "cell_type": "markdown",
   "metadata": {},
   "source": [
    "\n",
    "\n",
    "select the best cluster num\n"
   ]
  },
  {
   "cell_type": "code",
   "execution_count": 4,
   "metadata": {},
   "outputs": [],
   "source": [
    "\n",
    "\n",
    "def best_kmeans(tfidf_matrix,word_dict):  \n",
    "    K = range(1, 10) \n",
    "    meandistortions = [] \n",
    "    for k in K: \n",
    "        print (k),('****'*5)\n",
    "        kmeans = KMeans(n_clusters=k) \n",
    "        kmeans.fit(tfidf_matrix)    \n",
    "        meandistortions.append(sum(np.min(cdist(tfidf_matrix.toarray(), kmeans.cluster_centers_, 'euclidean'), axis=1)) / tfidf_matrix.shape[0]) \n",
    "    plt.plot(K, meandistortions, 'bx-')\n",
    "    plt.grid(True) \n",
    "    plt.xlabel('Number of clusters') \n",
    "    plt.ylabel('Average within-cluster sum of squares') \n",
    "    plt.title('Elbow for Kmeans clustering')\n",
    "    plt.show()\n",
    "\n"
   ]
  },
  {
   "cell_type": "markdown",
   "metadata": {},
   "source": [
    "### 测试"
   ]
  },
  {
   "cell_type": "code",
   "execution_count": 5,
   "metadata": {},
   "outputs": [
    {
     "name": "stdout",
     "output_type": "stream",
     "text": [
      "build train-corpus done!!\n",
      "the shape of train is \n",
      "(1610, 362)\n",
      "1\n",
      "2\n"
     ]
    },
    {
     "name": "stderr",
     "output_type": "stream",
     "text": [
      "D:\\ProgramData\\Anaconda3\\envs\\gobigger\\lib\\site-packages\\sklearn\\utils\\deprecation.py:87: FutureWarning: Function get_feature_names is deprecated; get_feature_names is deprecated in 1.0 and will be removed in 1.2. Please use get_feature_names_out instead.\n",
      "  warnings.warn(msg, category=FutureWarning)\n"
     ]
    },
    {
     "name": "stdout",
     "output_type": "stream",
     "text": [
      "3\n",
      "4\n",
      "5\n",
      "6\n",
      "7\n",
      "8\n",
      "9\n"
     ]
    },
    {
     "data": {
      "image/png": "[encoded data removed]",
      "text/plain": [
       "<Figure size 432x288 with 1 Axes>"
      ]
     },
     "metadata": {
      "needs_background": "light"
     },
     "output_type": "display_data"
    },
    {
     "name": "stdout",
     "output_type": "stream",
     "text": [
      "1\n",
      "*************************\n",
      "2\n",
      "*************************\n",
      "3\n",
      "*************************\n",
      "4\n",
      "*************************\n",
      "5\n",
      "*************************\n",
      "6\n",
      "*************************\n",
      "7\n",
      "*************************\n"
     ]
    }
   ],
   "source": [
    "corpus_train = \"corpus_train.txt\"\n",
    "cluster_docs = \"cluster_result_document.txt\"\n",
    "cluster_keywords = \"cluster_result_keyword.txt\"\n",
    "num_clusters = 7\n",
    "tfidf_train,word_dict=tfidf_vector(corpus_train)\n",
    "best_kmeans(tfidf_train,word_dict)\n",
    "cluster_kmeans(tfidf_train,word_dict,cluster_docs,cluster_keywords,num_clusters)"
   ]
  },
  {
   "cell_type": "code",
   "execution_count": null,
   "metadata": {},
   "outputs": [],
   "source": []
  }
 ],
 "metadata": {
  "interpreter": {
   "hash": "232f66ea714acf063792c091ef59ab4fef0f08291e88ae72d9c0d0d8efc52143"
  },
  "kernelspec": {
   "display_name": "Python 3.8.12 ('gobigger')",
   "language": "python",
   "name": "python3"
  },
  "language_info": {
   "codemirror_mode": {
    "name": "ipython",
    "version": 3
   },
   "file_extension": ".py",
   "mimetype": "text/x-python",
   "name": "python",
   "nbconvert_exporter": "python",
   "pygments_lexer": "ipython3",
   "version": "3.8.12"
  },
  "orig_nbformat": 4
 },
 "nbformat": 4,
 "nbformat_minor": 2
}
