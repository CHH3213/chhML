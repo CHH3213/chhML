{
 "cells": [
  {
   "cell_type": "markdown",
   "metadata": {},
   "source": [
    "## 使用高斯模型实现EM算法"
   ]
  },
  {
   "cell_type": "markdown",
   "metadata": {},
   "source": [
    "高斯混合模型（GMM 聚类）的 EM 算法实现。\n",
    "\n",
    "\n",
    "1. 在对样本应用高斯混合模型的 EM 算法前，需要先进行数据预处理，即把所有样本值都缩放到 0 和 1 之间。\n",
    "2. 初始化模型参数时，要确保任意两个模型之间参数没有完全相同，否则迭代到最后，两个模型的参数也将完全相同，相当于一个模型。\n",
    "3. 模型的个数必须大于 1。当 K 等于 1 时相当于将样本聚成一类，没有任何意义。\n"
   ]
  },
  {
   "cell_type": "code",
   "execution_count": 1,
   "metadata": {},
   "outputs": [],
   "source": [
    "import numpy as np\n",
    "import matplotlib.pyplot as plt\n",
    "from scipy.stats import multivariate_normal\n"
   ]
  },
  {
   "cell_type": "code",
   "execution_count": 2,
   "metadata": {},
   "outputs": [],
   "source": [
    "DEBUG = True"
   ]
  },
  {
   "cell_type": "markdown",
   "metadata": {},
   "source": [
    "### 调试输出函数\n",
    "由全局变量 DEBUG 控制输出"
   ]
  },
  {
   "cell_type": "code",
   "execution_count": 3,
   "metadata": {},
   "outputs": [],
   "source": [
    "def debug(*args, **kwargs):\n",
    "    global DEBUG\n",
    "    if DEBUG:\n",
    "        print(*args, **kwargs)"
   ]
  },
  {
   "cell_type": "markdown",
   "metadata": {},
   "source": [
    "### 第 k 个模型的高斯分布密度函数\n",
    "\n",
    "每 i 行表示第 i 个样本在各模型中的出现概率\n",
    "\n",
    "返回一维列表"
   ]
  },
  {
   "cell_type": "code",
   "execution_count": 4,
   "metadata": {},
   "outputs": [],
   "source": [
    "def phi(Y, mu_k, cov_k):\n",
    "    norm = multivariate_normal(mean=mu_k, cov=cov_k)\n",
    "    return norm.pdf(Y)"
   ]
  },
  {
   "cell_type": "markdown",
   "metadata": {},
   "source": [
    "### E 步：计算每个模型对样本的响应度\n",
    "\n",
    "Y 为样本矩阵，每个样本一行，只有一个特征时为列向量\n",
    "\n",
    "mu 为均值多维数组，每行表示一个样本各个特征的均值\n",
    "\n",
    "cov 为协方差矩阵的数组，alpha 为模型响应度数组"
   ]
  },
  {
   "cell_type": "code",
   "execution_count": 5,
   "metadata": {},
   "outputs": [],
   "source": [
    "def getExpectation(Y, mu, cov, alpha):\n",
    "    # 样本数\n",
    "    N = Y.shape[0]\n",
    "    # 模型数\n",
    "    K = alpha.shape[0]\n",
    "\n",
    "    # 为避免使用单个高斯模型或样本，导致返回结果的类型不一致\n",
    "    # 因此要求样本数和模型个数必须大于1\n",
    "    assert N > 1, \"There must be more than one sample!\"\n",
    "    assert K > 1, \"There must be more than one gaussian model!\"\n",
    "\n",
    "    # 响应度矩阵，行对应样本，列对应响应度\n",
    "    gamma = np.mat(np.zeros((N, K)))\n",
    "\n",
    "    # 计算各模型中所有样本出现的概率，行对应样本，列对应模型\n",
    "    prob = np.zeros((N, K))\n",
    "    for k in range(K):\n",
    "        prob[:, k] = phi(Y, mu[k], cov[k])\n",
    "    prob = np.mat(prob)\n",
    "\n",
    "    # 计算每个模型对每个样本的响应度\n",
    "    for k in range(K):\n",
    "        gamma[:, k] = alpha[k] * prob[:, k]\n",
    "    for i in range(N):\n",
    "        gamma[i, :] /= np.sum(gamma[i, :])\n",
    "    return gamma"
   ]
  },
  {
   "cell_type": "markdown",
   "metadata": {},
   "source": [
    "### M 步：迭代模型参数\n",
    "Y 为样本矩阵，gamma 为响应度矩阵"
   ]
  },
  {
   "cell_type": "code",
   "execution_count": 7,
   "metadata": {},
   "outputs": [],
   "source": [
    "def maximize(Y, gamma):\n",
    "    # 样本数和特征数\n",
    "    N, D = Y.shape\n",
    "    # 模型数\n",
    "    K = gamma.shape[1]\n",
    "\n",
    "    #初始化参数值\n",
    "    mu = np.zeros((K, D))\n",
    "    cov = []\n",
    "    alpha = np.zeros(K)\n",
    "\n",
    "    # 更新每个模型的参数\n",
    "    for k in range(K):\n",
    "        # 第 k 个模型对所有样本的响应度之和\n",
    "        Nk = np.sum(gamma[:, k])\n",
    "        # 更新 mu\n",
    "        # 对每个特征求均值\n",
    "        for d in range(D):\n",
    "            mu[k, d] = np.sum(np.multiply(gamma[:, k], Y[:, d])) / Nk\n",
    "        # 更新 cov\n",
    "        cov_k = np.mat(np.zeros((D, D)))\n",
    "        for i in range(N):\n",
    "            cov_k += gamma[i, k] * (Y[i] - mu[k]).T * (Y[i] - mu[k]) / Nk\n",
    "        cov.append(cov_k)\n",
    "        # 更新 alpha\n",
    "        alpha[k] = Nk / N\n",
    "    cov = np.array(cov)\n",
    "    return mu, cov, alpha"
   ]
  },
  {
   "cell_type": "markdown",
   "metadata": {},
   "source": [
    "### 数据预处理\n",
    "将所有数据都缩放到 0 和 1 之间"
   ]
  },
  {
   "cell_type": "code",
   "execution_count": 8,
   "metadata": {},
   "outputs": [],
   "source": [
    "def scale_data(Y):\n",
    "    # 对每一维特征分别进行缩放\n",
    "    for i in range(Y.shape[1]):\n",
    "        max_ = Y[:, i].max()\n",
    "        min_ = Y[:, i].min()\n",
    "        Y[:, i] = (Y[:, i] - min_) / (max_ - min_)\n",
    "    debug(\"Data scaled.\")\n",
    "    return Y"
   ]
  },
  {
   "cell_type": "markdown",
   "metadata": {},
   "source": [
    "### 初始化模型参数\n",
    "shape 是表示样本规模的二元组，(样本数, 特征数)\n",
    "\n",
    "K 表示模型个数"
   ]
  },
  {
   "cell_type": "code",
   "execution_count": 19,
   "metadata": {},
   "outputs": [],
   "source": [
    "def init_params(shape, K):\n",
    "    N, D = shape\n",
    "    mu = np.random.rand(K, D)\n",
    "    cov = np.array([np.eye(D)] * K)\n",
    "    alpha = np.array([1.0 / K] * K)\n",
    "    debug(\"Parameters initialized.\")\n",
    "    debug(\"mu:\", mu, \"cov:\", cov, \"alpha:\", alpha, sep=\"\\n\")\n",
    "    return mu, cov, alpha"
   ]
  },
  {
   "cell_type": "markdown",
   "metadata": {},
   "source": [
    "### 高斯混合模型 EM 算法\n",
    "给定样本矩阵 Y，计算模型参数\n",
    "\n",
    "K 为模型个数\n",
    "\n",
    "times 为迭代次数"
   ]
  },
  {
   "cell_type": "code",
   "execution_count": 20,
   "metadata": {},
   "outputs": [],
   "source": [
    "def GMM_EM(Y, K, times):\n",
    "    Y = scale_data(Y)\n",
    "    mu, cov, alpha = init_params(Y.shape, K)\n",
    "    for i in range(times):\n",
    "        gamma = getExpectation(Y, mu, cov, alpha)\n",
    "        mu, cov, alpha = maximize(Y, gamma)\n",
    "    debug(\"{sep} Result {sep}\".format(sep=\"-\" * 20))\n",
    "    debug(\"mu:\", mu, \"cov:\", cov, \"alpha:\", alpha, sep=\"\\n\")\n",
    "    return mu, cov, alpha"
   ]
  },
  {
   "cell_type": "markdown",
   "metadata": {},
   "source": [
    "### 测试"
   ]
  },
  {
   "cell_type": "code",
   "execution_count": 13,
   "metadata": {},
   "outputs": [],
   "source": [
    "# 载入数据\n",
    "Y = np.loadtxt(\"gmm.data\")\n",
    "matY = np.matrix(Y, copy=True)\n"
   ]
  },
  {
   "cell_type": "code",
   "execution_count": 14,
   "metadata": {},
   "outputs": [],
   "source": [
    "# 模型个数，即聚类的类别个数\n",
    "K = 2"
   ]
  },
  {
   "cell_type": "code",
   "execution_count": 21,
   "metadata": {},
   "outputs": [
    {
     "name": "stdout",
     "output_type": "stream",
     "text": [
      "Data scaled.\n",
      "Parameters initialized.\n",
      "mu:\n",
      "[[0.23002587 0.14966117]\n",
      " [0.2028568  0.01652658]]\n",
      "cov:\n",
      "[[[1. 0.]\n",
      "  [0. 1.]]\n",
      "\n",
      " [[1. 0.]\n",
      "  [0. 1.]]]\n",
      "alpha:\n",
      "[0.5 0.5]\n",
      "-------------------- Result --------------------\n",
      "mu:\n",
      "[[0.76847485 0.69751161]\n",
      " [0.12468242 0.21657578]]\n",
      "cov:\n",
      "[[[0.01387497 0.00507067]\n",
      "  [0.00507067 0.0128324 ]]\n",
      "\n",
      " [[0.00564634 0.00234592]\n",
      "  [0.00234592 0.01199618]]]\n",
      "alpha:\n",
      "[0.64412714 0.35587286]\n"
     ]
    }
   ],
   "source": [
    "# 计算 GMM 模型参数\n",
    "mu, cov, alpha = GMM_EM(matY, K, 100)\n",
    "\n",
    "# 根据 GMM 模型，对样本数据进行聚类，一个模型对应一个类别\n",
    "N = Y.shape[0]\n",
    "# 求当前模型参数下，各模型对样本的响应度矩阵\n",
    "gamma = getExpectation(matY, mu, cov, alpha)\n",
    "# 对每个样本，求响应度最大的模型下标，作为其类别标识\n",
    "category = gamma.argmax(axis=1).flatten().tolist()[0]\n",
    "# 将每个样本放入对应类别的列表中\n",
    "class1 = np.array([Y[i] for i in range(N) if category[i] == 0])\n",
    "class2 = np.array([Y[i] for i in range(N) if category[i] == 1])"
   ]
  },
  {
   "cell_type": "code",
   "execution_count": 22,
   "metadata": {},
   "outputs": [
    {
     "data": {
      "image/png": "[encoded data removed]",
      "text/plain": [
       "<Figure size 432x288 with 1 Axes>"
      ]
     },
     "metadata": {
      "needs_background": "light"
     },
     "output_type": "display_data"
    }
   ],
   "source": [
    "# 绘制聚类结果\n",
    "plt.plot(class1[:, 0], class1[:, 1], 'rs', label=\"class1\")\n",
    "plt.plot(class2[:, 0], class2[:, 1], 'bo', label=\"class2\")\n",
    "plt.legend(loc=\"best\")\n",
    "plt.title(\"GMM Clustering By EM Algorithm\")\n",
    "plt.show()"
   ]
  },
  {
   "cell_type": "code",
   "execution_count": null,
   "metadata": {},
   "outputs": [],
   "source": []
  }
 ],
 "metadata": {
  "interpreter": {
   "hash": "232f66ea714acf063792c091ef59ab4fef0f08291e88ae72d9c0d0d8efc52143"
  },
  "kernelspec": {
   "display_name": "Python 3.8.12 ('gobigger')",
   "language": "python",
   "name": "python3"
  },
  "language_info": {
   "codemirror_mode": {
    "name": "ipython",
    "version": 3
   },
   "file_extension": ".py",
   "mimetype": "text/x-python",
   "name": "python",
   "nbconvert_exporter": "python",
   "pygments_lexer": "ipython3",
   "version": "3.8.12"
  },
  "orig_nbformat": 4
 },
 "nbformat": 4,
 "nbformat_minor": 2
}
