{
 "cells": [
  {
   "cell_type": "code",
   "execution_count": 12,
   "metadata": {},
   "outputs": [],
   "source": [
    "# 推荐写法。代码耗时：0.62秒\n",
    "import numba\n",
    "@numba.jit\n",
    "def computeSum(size: float) -> int:\n",
    "    sum = 0\n",
    "    for i in range(size):\n",
    "        sum += i\n",
    "    return sum\n",
    "\n",
    "def main():\n",
    "    size = 10000\n",
    "    for _ in range(size):\n",
    "        sum = computeSum(size)\n",
    "\n",
    "main()"
   ]
  },
  {
   "cell_type": "code",
   "execution_count": 8,
   "metadata": {},
   "outputs": [],
   "source": [
    "def computeSum(size: float) -> int:\n",
    "    sum = 0\n",
    "    for i in range(size):\n",
    "        sum += i\n",
    "    return sum\n",
    "\n",
    "def main():\n",
    "    size = 10000\n",
    "    for _ in range(size):\n",
    "        sum = computeSum(size)\n",
    "\n",
    "main()"
   ]
  },
  {
   "cell_type": "code",
   "execution_count": 11,
   "metadata": {},
   "outputs": [
    {
     "name": "stdout",
     "output_type": "stream",
     "text": [
      "(720, 1280, 3)\n",
      "(720, 1280, 3)\n",
      "(720, 1280, 3)\n",
      "(720, 1280, 3)\n",
      "(720, 1280, 3)\n",
      "(720, 1280, 3)\n",
      "(720, 1280, 3)\n",
      "(720, 1280, 3)\n",
      "(720, 1280, 3)\n",
      "(720, 1280, 3)\n",
      "(720, 1280, 3)\n",
      "(720, 1280, 3)\n",
      "(720, 1280, 3)\n",
      "(720, 1280, 3)\n",
      "(720, 1280, 3)\n",
      "(720, 1280, 3)\n",
      "(720, 1280, 3)\n",
      "(720, 1280, 3)\n",
      "(720, 1280, 3)\n",
      "(720, 1280, 3)\n",
      "(720, 1280, 3)\n",
      "(720, 1280, 3)\n",
      "(720, 1280, 3)\n",
      "(720, 1280, 3)\n",
      "(720, 1280, 3)\n",
      "(720, 1280, 3)\n",
      "(720, 1280, 3)\n",
      "(720, 1280, 3)\n",
      "(720, 1280, 3)\n",
      "(720, 1280, 3)\n",
      "(720, 1280, 3)\n",
      "(720, 1280, 3)\n",
      "(720, 1280, 3)\n",
      "(720, 1280, 3)\n",
      "(720, 1280, 3)\n",
      "(720, 1280, 3)\n",
      "(720, 1280, 3)\n",
      "(720, 1280, 3)\n",
      "(720, 1280, 3)\n",
      "(720, 1280, 3)\n",
      "(720, 1280, 3)\n",
      "(720, 1280, 3)\n",
      "(720, 1280, 3)\n",
      "(720, 1280, 3)\n",
      "(720, 1280, 3)\n",
      "(720, 1280, 3)\n",
      "(720, 1280, 3)\n",
      "(720, 1280, 3)\n",
      "(720, 1280, 3)\n",
      "(720, 1280, 3)\n",
      "(720, 1280, 3)\n",
      "(720, 1280, 3)\n",
      "(720, 1280, 3)\n",
      "(720, 1280, 3)\n",
      "(720, 1280, 3)\n",
      "(720, 1280, 3)\n",
      "(720, 1280, 3)\n",
      "(720, 1280, 3)\n",
      "(720, 1280, 3)\n",
      "(720, 1280, 3)\n",
      "(720, 1280, 3)\n",
      "(720, 1280, 3)\n",
      "(720, 1280, 3)\n",
      "(720, 1280, 3)\n",
      "(720, 1280, 3)\n",
      "(720, 1280, 3)\n",
      "(720, 1280, 3)\n",
      "(720, 1280, 3)\n",
      "(720, 1280, 3)\n",
      "(720, 1280, 3)\n",
      "(720, 1280, 3)\n",
      "(720, 1280, 3)\n",
      "(720, 1280, 3)\n",
      "(720, 1280, 3)\n",
      "(720, 1280, 3)\n",
      "(720, 1280, 3)\n"
     ]
    }
   ],
   "source": [
    "## 批量裁剪图片\n",
    "import numpy as np\n",
    "import cv2\n",
    "import os\n",
    " \n",
    "def update(input_img_path, output_img_path):\n",
    " \n",
    "    image = cv2.imread(input_img_path)\n",
    "    # print(image)\n",
    "    print(image.shape)\n",
    "    cropped = image[:, 1:1100] # 裁剪坐标为[y0:y1, x0:x1]\n",
    "    cv2.imwrite(output_img_path, cropped)\n",
    " \n",
    "dataset_dir = r'E:\\Capture'\n",
    "output_dir = r'E:\\Cut'\n",
    " \n",
    " \n",
    "# 获得需要转化的图片路径并生成目标路径\n",
    "image_filenames = [(os.path.join(dataset_dir, x), os.path.join(output_dir, x))\n",
    "                    for x in os.listdir(dataset_dir)]\n",
    "# 转化所有图片\n",
    "for path in image_filenames:\n",
    "    update(path[0], path[1])\n",
    "\n",
    "# for x in image_filenames:\n",
    "#     print(x)\n"
   ]
  },
  {
   "cell_type": "code",
   "execution_count": 24,
   "metadata": {},
   "outputs": [
    {
     "ename": "AttributeError",
     "evalue": "'NoneType' object has no attribute 'shape'",
     "output_type": "error",
     "traceback": [
      "\u001b[1;31m---------------------------------------------------------------------------\u001b[0m",
      "\u001b[1;31mAttributeError\u001b[0m                            Traceback (most recent call last)",
      "\u001b[1;32me:\\CHH3213_KING\\研究生\\导师\\就业规划\\强化学习专题\\chhML\\test.ipynb Cell 4'\u001b[0m in \u001b[0;36m<cell line: 2>\u001b[1;34m()\u001b[0m\n\u001b[0;32m      <a href='vscode-notebook-cell:/e%3A/CHH3213_KING/%E7%A0%94%E7%A9%B6%E7%94%9F/%E5%AF%BC%E5%B8%88/%E5%B0%B1%E4%B8%9A%E8%A7%84%E5%88%92/%E5%BC%BA%E5%8C%96%E5%AD%A6%E4%B9%A0%E4%B8%93%E9%A2%98/chhML/test.ipynb#ch0000003?line=0'>1</a>\u001b[0m image \u001b[39m=\u001b[39m cv2\u001b[39m.\u001b[39mimread(\u001b[39m'\u001b[39m\u001b[39mE:\u001b[39m\u001b[39m\\\\\u001b[39;00m\u001b[39mUser移动文件夹\u001b[39m\u001b[39m\\\\\u001b[39;00m\u001b[39m下载\u001b[39m\u001b[39m\\\\\u001b[39;00m\u001b[39mPotPlayer64\u001b[39m\u001b[39m\\\\\u001b[39;00m\u001b[39mCapture\u001b[39m\u001b[39m\\\\\u001b[39;00m\u001b[39m1.png\u001b[39m\u001b[39m'\u001b[39m)\n\u001b[1;32m----> <a href='vscode-notebook-cell:/e%3A/CHH3213_KING/%E7%A0%94%E7%A9%B6%E7%94%9F/%E5%AF%BC%E5%B8%88/%E5%B0%B1%E4%B8%9A%E8%A7%84%E5%88%92/%E5%BC%BA%E5%8C%96%E5%AD%A6%E4%B9%A0%E4%B8%93%E9%A2%98/chhML/test.ipynb#ch0000003?line=1'>2</a>\u001b[0m \u001b[39mprint\u001b[39m(image\u001b[39m.\u001b[39;49mshape)\n",
      "\u001b[1;31mAttributeError\u001b[0m: 'NoneType' object has no attribute 'shape'"
     ]
    }
   ],
   "source": [
    "image = cv2.imread('E:\\\\User移动文件夹\\\\下载\\\\PotPlayer64\\\\Capture\\\\1.png')\n",
    "print(image.shape)"
   ]
  }
 ],
 "metadata": {
  "interpreter": {
   "hash": "d46e21d0935fd83c4ac28d914742846a2fe41c9b46e0d19e8805f73b2486dc37"
  },
  "kernelspec": {
   "display_name": "Python 3.6.13 ('tianshou')",
   "language": "python",
   "name": "python3"
  },
  "language_info": {
   "codemirror_mode": {
    "name": "ipython",
    "version": 3
   },
   "file_extension": ".py",
   "mimetype": "text/x-python",
   "name": "python",
   "nbconvert_exporter": "python",
   "pygments_lexer": "ipython3",
   "version": "3.8.12"
  },
  "orig_nbformat": 4
 },
 "nbformat": 4,
 "nbformat_minor": 2
}
