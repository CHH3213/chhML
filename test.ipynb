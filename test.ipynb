{
 "cells": [
  {
   "cell_type": "code",
   "execution_count": 12,
   "metadata": {},
   "outputs": [],
   "source": [
    "# 推荐写法。代码耗时：0.62秒\n",
    "import numba\n",
    "@numba.jit\n",
    "def computeSum(size: float) -> int:\n",
    "    sum = 0\n",
    "    for i in range(size):\n",
    "        sum += i\n",
    "    return sum\n",
    "\n",
    "def main():\n",
    "    size = 10000\n",
    "    for _ in range(size):\n",
    "        sum = computeSum(size)\n",
    "\n",
    "main()"
   ]
  },
  {
   "cell_type": "code",
   "execution_count": 8,
   "metadata": {},
   "outputs": [],
   "source": [
    "def computeSum(size: float) -> int:\n",
    "    sum = 0\n",
    "    for i in range(size):\n",
    "        sum += i\n",
    "    return sum\n",
    "\n",
    "def main():\n",
    "    size = 10000\n",
    "    for _ in range(size):\n",
    "        sum = computeSum(size)\n",
    "\n",
    "main()"
   ]
  }
 ],
 "metadata": {
  "interpreter": {
   "hash": "d46e21d0935fd83c4ac28d914742846a2fe41c9b46e0d19e8805f73b2486dc37"
  },
  "kernelspec": {
   "display_name": "Python 3.6.13 ('tianshou')",
   "language": "python",
   "name": "python3"
  },
  "language_info": {
   "codemirror_mode": {
    "name": "ipython",
    "version": 3
   },
   "file_extension": ".py",
   "mimetype": "text/x-python",
   "name": "python",
   "nbconvert_exporter": "python",
   "pygments_lexer": "ipython3",
   "version": "3.6.13"
  },
  "orig_nbformat": 4
 },
 "nbformat": 4,
 "nbformat_minor": 2
}
