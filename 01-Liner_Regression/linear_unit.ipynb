{
 "cells": [
  {
   "cell_type": "markdown",
   "metadata": {},
   "source": [
    "# 线性单元\n",
    "\n",
    "在感知器的基础上进行扩展"
   ]
  },
  {
   "cell_type": "code",
   "execution_count": 1,
   "metadata": {},
   "outputs": [
    {
     "data": {
      "text/plain": [
       "'e:\\\\CHH3213_KING\\\\研究生\\\\导师\\\\就业规划\\\\强化学习专题\\\\chhML\\\\01-Liner_Regression'"
      ]
     },
     "execution_count": 1,
     "metadata": {},
     "output_type": "execute_result"
    }
   ],
   "source": [
    "%pwd"
   ]
  },
  {
   "cell_type": "code",
   "execution_count": 4,
   "metadata": {},
   "outputs": [],
   "source": [
    "import sys\n",
    "sys.path.append(r'e:\\\\CHH3213_KING\\\\研究生\\\\导师\\\\就业规划\\\\强化学习专题\\\\chhML\\\\00-Perceptron')\n",
    "from perceptron import Perceptron"
   ]
  },
  {
   "cell_type": "code",
   "execution_count": 5,
   "metadata": {},
   "outputs": [],
   "source": [
    "#定义激活函数f\n",
    "f = lambda x: x"
   ]
  },
  {
   "cell_type": "code",
   "execution_count": 6,
   "metadata": {},
   "outputs": [],
   "source": [
    "class LinearUnit(Perceptron):\n",
    "    def __init__(self, input_num):\n",
    "        \"\"\"_summary_\n",
    "        初始化线性单元,设置输入参数的个数\n",
    "        Args:\n",
    "            input_num (_type_): _description_\n",
    "        \"\"\"\n",
    "        self.input_num = input_num\n",
    "        Perceptron.__init__(self, input_num, f)"
   ]
  },
  {
   "cell_type": "code",
   "execution_count": 7,
   "metadata": {},
   "outputs": [],
   "source": [
    "\n",
    "def get_training_dataset():\n",
    "    '''\n",
    "    捏造5个人的收入数据\n",
    "    '''\n",
    "    # 构建训练数据\n",
    "    # 输入向量列表，每一项是工作年限\n",
    "    input_vecs = [[5], [3], [8], [1.4], [10.1]]\n",
    "    # 期望的输出列表，月薪，注意要与输入一一对应\n",
    "    labels = [5500, 2300, 7600, 1800, 11400]\n",
    "    return input_vecs, labels\n"
   ]
  },
  {
   "cell_type": "code",
   "execution_count": 8,
   "metadata": {},
   "outputs": [],
   "source": [
    "def train_linear_unit():\n",
    "    '''\n",
    "    使用数据训练线性单元\n",
    "    '''\n",
    "    # 创建感知器，输入参数的特征数为1（工作年限）\n",
    "    lu = LinearUnit(1)\n",
    "    # 训练，迭代10轮, 学习速率为0.01\n",
    "    input_vecs, labels = get_training_dataset()\n",
    "    lu.train(input_vecs, labels, 10, 0.01)\n",
    "    #返回训练好的线性单元\n",
    "    return lu\n"
   ]
  },
  {
   "cell_type": "code",
   "execution_count": 15,
   "metadata": {},
   "outputs": [],
   "source": [
    "def plot(linear_unit):\n",
    "    import matplotlib.pyplot as plt\n",
    "    input_vecs, labels = get_training_dataset()\n",
    "    fig = plt.figure()\n",
    "    ax = fig.add_subplot(111)\n",
    "    ax.scatter(list(map(lambda x: x[0], input_vecs)), labels)\n",
    "    weights = linear_unit.weights\n",
    "    bias = linear_unit.bias\n",
    "    x = range(0, 12, 1)\n",
    "    y = list(map(lambda x: weights[0] * x + bias, x))\n",
    "    ax.plot(x, y)\n",
    "    plt.show()\n"
   ]
  },
  {
   "cell_type": "code",
   "execution_count": 16,
   "metadata": {},
   "outputs": [
    {
     "name": "stdout",
     "output_type": "stream",
     "text": [
      "weights\t:[1124.0634970262222]\n",
      "bias\t:85.485289\n",
      "\n",
      "Work 3.4 years, monthly salary = 3907.30\n",
      "Work 15 years, monthly salary = 16946.44\n",
      "Work 1.5 years, monthly salary = 1771.58\n",
      "Work 6.3 years, monthly salary = 7167.09\n"
     ]
    },
    {
     "data": {
      "image/png": "[encoded data removed]",
      "text/plain": [
       "<Figure size 432x288 with 1 Axes>"
      ]
     },
     "metadata": {
      "needs_background": "light"
     },
     "output_type": "display_data"
    }
   ],
   "source": [
    "'''训练线性单元'''\n",
    "linear_unit = train_linear_unit()\n",
    "# 打印训练获得的权重\n",
    "print(linear_unit)\n",
    "# 测试\n",
    "print('Work 3.4 years, monthly salary = %.2f' % linear_unit.predict([3.4]))\n",
    "print('Work 15 years, monthly salary = %.2f' % linear_unit.predict([15]))\n",
    "print('Work 1.5 years, monthly salary = %.2f' % linear_unit.predict([1.5]))\n",
    "print('Work 6.3 years, monthly salary = %.2f' % linear_unit.predict([6.3]))\n",
    "plot(linear_unit)\n"
   ]
  },
  {
   "cell_type": "code",
   "execution_count": null,
   "metadata": {},
   "outputs": [],
   "source": []
  }
 ],
 "metadata": {
  "interpreter": {
   "hash": "232f66ea714acf063792c091ef59ab4fef0f08291e88ae72d9c0d0d8efc52143"
  },
  "kernelspec": {
   "display_name": "Python 3.8.12 ('gobigger')",
   "language": "python",
   "name": "python3"
  },
  "language_info": {
   "codemirror_mode": {
    "name": "ipython",
    "version": 3
   },
   "file_extension": ".py",
   "mimetype": "text/x-python",
   "name": "python",
   "nbconvert_exporter": "python",
   "pygments_lexer": "ipython3",
   "version": "3.8.12"
  },
  "orig_nbformat": 4
 },
 "nbformat": 4,
 "nbformat_minor": 2
}
