{
 "cells": [
  {
   "cell_type": "markdown",
   "metadata": {},
   "source": [
    "## 房价预测"
   ]
  },
  {
   "cell_type": "markdown",
   "metadata": {},
   "source": [
    "### 题目说明\n",
    "从给定的房屋基本信息以及房屋销售信息等，建立一个回归模型预测房屋的销售价格。\n",
    "\n",
    "\n",
    "### 数据说明\n",
    "数据主要包括2014年5月至2015年5月美国King County的房屋销售价格以及房屋的基本信息。 数据分为训练数据和测试数据，分别保存在kc_train.csv和kc_test.csv两个文件中。 其中训练数据主要包括10000条记录，\n",
    "\n",
    "\n",
    "14个字段，主要字段说明如下： 第一列“销售日期”：2014年5月到2015年5月房屋出售时的日期 第二列“销售价格”：房屋交易价格，单位为美元，是目标预测值 第三列“卧室数”：房屋中的卧室数目 第四列“浴室数”：房屋中的浴室数目 第五列“房屋面积”：房屋里的生活面积 第六列“停车面积”：停车坪的面积 第七列“楼层数”：房屋的楼层数 第八列“房屋评分”：King County房屋评分系统对房屋的总体评分 第九列“建筑面积”：除了地下室之外的房屋建筑面积 第十列“地下室面积”：地下室的面积 第十一列“建筑年份”：房屋建成的年份 第十二列“修复年份”：房屋上次修复的年份 第十三列\"纬度\"：房屋所在纬度 第十四列“经度”：房屋所在经度\n",
    "\n",
    "测试数据主要包括3000条记录，13个字段，跟训练数据的不同是测试数据并不包括房屋销售价格，学员需要通过由训练数据所建立的模型以及所给的测试数据，得出测试数据相应的房屋销售价格预测值。"
   ]
  },
  {
   "cell_type": "markdown",
   "metadata": {},
   "source": [
    "### 步骤\n",
    "\n",
    "1. 选择合适的模型，对模型的好坏进行评估和选择。\n",
    "2. 对缺失的值进行补齐操作，可以使用均值的方式补齐数据，使得准确度更高。\n",
    "3. 数据的取值一般跟属性有关系，但世界万物的属性是很多的，有些值小，但不代表不重要，所有为了提高预测的准确度，统一数据维度进行计算，方法有特征缩放和归一法等。\n",
    "4. 数据处理好之后就可以进行调用模型库进行训练了。\n",
    "5. 使用测试数据进行目标函数预测输出，观察结果是否符合预期。或者通过画出对比函数进行结果线条对比。\n"
   ]
  },
  {
   "cell_type": "markdown",
   "metadata": {},
   "source": [
    "### 环境配置\n",
    "\n",
    "python3.5\n",
    "\n",
    "numpy库\n",
    "\n",
    "pandas库\n",
    "\n",
    "matplotlib库进行画图\n",
    "\n",
    "seaborn库\n",
    "\n",
    "sklearn库\n"
   ]
  },
  {
   "cell_type": "code",
   "execution_count": 3,
   "metadata": {},
   "outputs": [],
   "source": [
    "import os\n",
    "\n",
    "import pandas as pd  \n",
    "import numpy as np   \n",
    "#设定随机数种子\n",
    "np.random.seed(1)\n",
    "\n",
    "#使用matplotlib库画图\n",
    "import matplotlib\n",
    "import matplotlib.pyplot as plt\n",
    "import seaborn\n",
    "import csv\n",
    "from sklearn import datasets"
   ]
  },
  {
   "cell_type": "markdown",
   "metadata": {},
   "source": [
    "### 数据处理\n",
    "首先先读取数据，查看数据是否存在缺失值，然后进行特征缩放统一数据维度"
   ]
  },
  {
   "cell_type": "code",
   "execution_count": 7,
   "metadata": {},
   "outputs": [],
   "source": [
    "#读取数据\n",
    "train_data = pd.read_csv(\"./美国KingCounty房价预测训练赛/kc_train.csv\")\n",
    "test_data = pd.read_csv(\"./美国KingCounty房价预测训练赛/kc_test.csv\")\n",
    "\n"
   ]
  },
  {
   "cell_type": "code",
   "execution_count": 30,
   "metadata": {},
   "outputs": [
    {
     "data": {
      "text/html": [
       "<div>\n",
       "<style scoped>\n",
       "    .dataframe tbody tr th:only-of-type {\n",
       "        vertical-align: middle;\n",
       "    }\n",
       "\n",
       "    .dataframe tbody tr th {\n",
       "        vertical-align: top;\n",
       "    }\n",
       "\n",
       "    .dataframe thead th {\n",
       "        text-align: right;\n",
       "    }\n",
       "</style>\n",
       "<table border=\"1\" class=\"dataframe\">\n",
       "  <thead>\n",
       "    <tr style=\"text-align: right;\">\n",
       "      <th></th>\n",
       "      <th>20150302</th>\n",
       "      <th>545000</th>\n",
       "      <th>3</th>\n",
       "      <th>2.25</th>\n",
       "      <th>1670</th>\n",
       "      <th>6240</th>\n",
       "      <th>1</th>\n",
       "      <th>8</th>\n",
       "      <th>1240</th>\n",
       "      <th>430</th>\n",
       "      <th>1974</th>\n",
       "      <th>0</th>\n",
       "      <th>47.6413</th>\n",
       "      <th>-122.113</th>\n",
       "    </tr>\n",
       "  </thead>\n",
       "  <tbody>\n",
       "    <tr>\n",
       "      <th>0</th>\n",
       "      <td>20150211</td>\n",
       "      <td>785000</td>\n",
       "      <td>4</td>\n",
       "      <td>2.50</td>\n",
       "      <td>3300</td>\n",
       "      <td>10514</td>\n",
       "      <td>2.0</td>\n",
       "      <td>10</td>\n",
       "      <td>3300</td>\n",
       "      <td>0</td>\n",
       "      <td>1984</td>\n",
       "      <td>0</td>\n",
       "      <td>47.6323</td>\n",
       "      <td>-122.036</td>\n",
       "    </tr>\n",
       "    <tr>\n",
       "      <th>1</th>\n",
       "      <td>20150107</td>\n",
       "      <td>765000</td>\n",
       "      <td>3</td>\n",
       "      <td>3.25</td>\n",
       "      <td>3190</td>\n",
       "      <td>5283</td>\n",
       "      <td>2.0</td>\n",
       "      <td>9</td>\n",
       "      <td>3190</td>\n",
       "      <td>0</td>\n",
       "      <td>2007</td>\n",
       "      <td>0</td>\n",
       "      <td>47.5534</td>\n",
       "      <td>-122.002</td>\n",
       "    </tr>\n",
       "    <tr>\n",
       "      <th>2</th>\n",
       "      <td>20141103</td>\n",
       "      <td>720000</td>\n",
       "      <td>5</td>\n",
       "      <td>2.50</td>\n",
       "      <td>2900</td>\n",
       "      <td>9525</td>\n",
       "      <td>2.0</td>\n",
       "      <td>9</td>\n",
       "      <td>2900</td>\n",
       "      <td>0</td>\n",
       "      <td>1989</td>\n",
       "      <td>0</td>\n",
       "      <td>47.5442</td>\n",
       "      <td>-122.138</td>\n",
       "    </tr>\n",
       "    <tr>\n",
       "      <th>3</th>\n",
       "      <td>20140603</td>\n",
       "      <td>449500</td>\n",
       "      <td>5</td>\n",
       "      <td>2.75</td>\n",
       "      <td>2040</td>\n",
       "      <td>7488</td>\n",
       "      <td>1.0</td>\n",
       "      <td>7</td>\n",
       "      <td>1200</td>\n",
       "      <td>840</td>\n",
       "      <td>1969</td>\n",
       "      <td>0</td>\n",
       "      <td>47.7289</td>\n",
       "      <td>-122.172</td>\n",
       "    </tr>\n",
       "    <tr>\n",
       "      <th>4</th>\n",
       "      <td>20150506</td>\n",
       "      <td>248500</td>\n",
       "      <td>2</td>\n",
       "      <td>1.00</td>\n",
       "      <td>780</td>\n",
       "      <td>10064</td>\n",
       "      <td>1.0</td>\n",
       "      <td>7</td>\n",
       "      <td>780</td>\n",
       "      <td>0</td>\n",
       "      <td>1958</td>\n",
       "      <td>0</td>\n",
       "      <td>47.4913</td>\n",
       "      <td>-122.318</td>\n",
       "    </tr>\n",
       "  </tbody>\n",
       "</table>\n",
       "</div>"
      ],
      "text/plain": [
       "   20150302  545000  3  2.25  1670   6240    1   8  1240  430  1974  0  \\\n",
       "0  20150211  785000  4  2.50  3300  10514  2.0  10  3300    0  1984  0   \n",
       "1  20150107  765000  3  3.25  3190   5283  2.0   9  3190    0  2007  0   \n",
       "2  20141103  720000  5  2.50  2900   9525  2.0   9  2900    0  1989  0   \n",
       "3  20140603  449500  5  2.75  2040   7488  1.0   7  1200  840  1969  0   \n",
       "4  20150506  248500  2  1.00   780  10064  1.0   7   780    0  1958  0   \n",
       "\n",
       "   47.6413  -122.113  \n",
       "0  47.6323  -122.036  \n",
       "1  47.5534  -122.002  \n",
       "2  47.5442  -122.138  \n",
       "3  47.7289  -122.172  \n",
       "4  47.4913  -122.318  "
      ]
     },
     "execution_count": 30,
     "metadata": {},
     "output_type": "execute_result"
    }
   ],
   "source": [
    "# 查看5行数据\n",
    "train_data.head()\n",
    "#查看是否有缺失值\n",
    "# train_data.info()\n",
    "# print(\"原始数据data\", train_data.shape,type(train_data))  #原始数据的结构\n",
    "# 数据描述：每列的元素数、均值、标准差、最小值、25%、50%、75%分位数和最大值\n",
    "# print(train_data.describe()) "
   ]
  },
  {
   "cell_type": "markdown",
   "metadata": {},
   "source": [
    "能够看到第二列是销售价格，而我们要预测的就是销售价格，所以在训练过程中是不需要销售价格的，把第二列删除掉,并把第二列的数据单独保存下来。"
   ]
  },
  {
   "cell_type": "code",
   "execution_count": 38,
   "metadata": {},
   "outputs": [],
   "source": [
    "\n",
    "target = train_data.iloc[:,1]\n",
    "train_data.drop(train_data.columns[[1]],axis='columns',inplace=True)"
   ]
  },
  {
   "cell_type": "code",
   "execution_count": 39,
   "metadata": {},
   "outputs": [
    {
     "data": {
      "text/html": [
       "<div>\n",
       "<style scoped>\n",
       "    .dataframe tbody tr th:only-of-type {\n",
       "        vertical-align: middle;\n",
       "    }\n",
       "\n",
       "    .dataframe tbody tr th {\n",
       "        vertical-align: top;\n",
       "    }\n",
       "\n",
       "    .dataframe thead th {\n",
       "        text-align: right;\n",
       "    }\n",
       "</style>\n",
       "<table border=\"1\" class=\"dataframe\">\n",
       "  <thead>\n",
       "    <tr style=\"text-align: right;\">\n",
       "      <th></th>\n",
       "      <th>20150302</th>\n",
       "      <th>3</th>\n",
       "      <th>2.25</th>\n",
       "      <th>1670</th>\n",
       "      <th>6240</th>\n",
       "      <th>1</th>\n",
       "      <th>8</th>\n",
       "      <th>1240</th>\n",
       "      <th>430</th>\n",
       "      <th>1974</th>\n",
       "      <th>0</th>\n",
       "      <th>47.6413</th>\n",
       "      <th>-122.113</th>\n",
       "    </tr>\n",
       "  </thead>\n",
       "  <tbody>\n",
       "    <tr>\n",
       "      <th>0</th>\n",
       "      <td>20150211</td>\n",
       "      <td>4</td>\n",
       "      <td>2.50</td>\n",
       "      <td>3300</td>\n",
       "      <td>10514</td>\n",
       "      <td>2.0</td>\n",
       "      <td>10</td>\n",
       "      <td>3300</td>\n",
       "      <td>0</td>\n",
       "      <td>1984</td>\n",
       "      <td>0</td>\n",
       "      <td>47.6323</td>\n",
       "      <td>-122.036</td>\n",
       "    </tr>\n",
       "    <tr>\n",
       "      <th>1</th>\n",
       "      <td>20150107</td>\n",
       "      <td>3</td>\n",
       "      <td>3.25</td>\n",
       "      <td>3190</td>\n",
       "      <td>5283</td>\n",
       "      <td>2.0</td>\n",
       "      <td>9</td>\n",
       "      <td>3190</td>\n",
       "      <td>0</td>\n",
       "      <td>2007</td>\n",
       "      <td>0</td>\n",
       "      <td>47.5534</td>\n",
       "      <td>-122.002</td>\n",
       "    </tr>\n",
       "    <tr>\n",
       "      <th>2</th>\n",
       "      <td>20141103</td>\n",
       "      <td>5</td>\n",
       "      <td>2.50</td>\n",
       "      <td>2900</td>\n",
       "      <td>9525</td>\n",
       "      <td>2.0</td>\n",
       "      <td>9</td>\n",
       "      <td>2900</td>\n",
       "      <td>0</td>\n",
       "      <td>1989</td>\n",
       "      <td>0</td>\n",
       "      <td>47.5442</td>\n",
       "      <td>-122.138</td>\n",
       "    </tr>\n",
       "    <tr>\n",
       "      <th>3</th>\n",
       "      <td>20140603</td>\n",
       "      <td>5</td>\n",
       "      <td>2.75</td>\n",
       "      <td>2040</td>\n",
       "      <td>7488</td>\n",
       "      <td>1.0</td>\n",
       "      <td>7</td>\n",
       "      <td>1200</td>\n",
       "      <td>840</td>\n",
       "      <td>1969</td>\n",
       "      <td>0</td>\n",
       "      <td>47.7289</td>\n",
       "      <td>-122.172</td>\n",
       "    </tr>\n",
       "    <tr>\n",
       "      <th>4</th>\n",
       "      <td>20150506</td>\n",
       "      <td>2</td>\n",
       "      <td>1.00</td>\n",
       "      <td>780</td>\n",
       "      <td>10064</td>\n",
       "      <td>1.0</td>\n",
       "      <td>7</td>\n",
       "      <td>780</td>\n",
       "      <td>0</td>\n",
       "      <td>1958</td>\n",
       "      <td>0</td>\n",
       "      <td>47.4913</td>\n",
       "      <td>-122.318</td>\n",
       "    </tr>\n",
       "  </tbody>\n",
       "</table>\n",
       "</div>"
      ],
      "text/plain": [
       "   20150302  3  2.25  1670   6240    1   8  1240  430  1974  0  47.6413  \\\n",
       "0  20150211  4  2.50  3300  10514  2.0  10  3300    0  1984  0  47.6323   \n",
       "1  20150107  3  3.25  3190   5283  2.0   9  3190    0  2007  0  47.5534   \n",
       "2  20141103  5  2.50  2900   9525  2.0   9  2900    0  1989  0  47.5442   \n",
       "3  20140603  5  2.75  2040   7488  1.0   7  1200  840  1969  0  47.7289   \n",
       "4  20150506  2  1.00   780  10064  1.0   7   780    0  1958  0  47.4913   \n",
       "\n",
       "   -122.113  \n",
       "0  -122.036  \n",
       "1  -122.002  \n",
       "2  -122.138  \n",
       "3  -122.172  \n",
       "4  -122.318  "
      ]
     },
     "execution_count": 39,
     "metadata": {},
     "output_type": "execute_result"
    }
   ],
   "source": [
    "train_data.head()"
   ]
  },
  {
   "cell_type": "code",
   "execution_count": 40,
   "metadata": {},
   "outputs": [],
   "source": [
    "#特征缩放\n",
    "from sklearn.preprocessing import MinMaxScaler\n",
    "minmax_scalar = MinMaxScaler()\n",
    "minmax_scalar.fit(train_data)#进行内部拟合，内部参数会发生变化\n",
    "scalar_train_data = minmax_scalar.transform(train_data)\n",
    "scalar_train_data = pd.DataFrame(scalar_train_data,columns=train_data.columns)"
   ]
  },
  {
   "cell_type": "code",
   "execution_count": 41,
   "metadata": {},
   "outputs": [],
   "source": [
    "# 测试数据的缩放\n",
    "mm_test = MinMaxScaler()\n",
    "mm_test.fit(test_data)\n",
    "scalar_test_data = mm_test.transform(test_data)\n",
    "scalar_test_data = pd.DataFrame(scalar_test_data,columns=test_data.columns)"
   ]
  },
  {
   "cell_type": "markdown",
   "metadata": {},
   "source": [
    "### 模型训练\n",
    "使用sklearn库的线性回归函数进行调用训练。梯度下降法获得误差最小值。最后使用均方误差法来评价模型的好坏程度，并画图进行比较。"
   ]
  },
  {
   "cell_type": "code",
   "execution_count": 43,
   "metadata": {},
   "outputs": [
    {
     "data": {
      "text/plain": [
       "LinearRegression()"
      ]
     },
     "execution_count": 43,
     "metadata": {},
     "output_type": "execute_result"
    }
   ],
   "source": [
    "#选择基于梯度下降的线性回归模型\n",
    "from sklearn.linear_model import LinearRegression\n",
    "LR_reg = LinearRegression()\n",
    "# 进行拟合\n",
    "LR_reg.fit(scalar_train_data,target)\n",
    "\n",
    "\n",
    "\n"
   ]
  },
  {
   "cell_type": "code",
   "execution_count": 49,
   "metadata": {},
   "outputs": [
    {
     "name": "stdout",
     "output_type": "stream",
     "text": [
      "48743886073.78829\n"
     ]
    }
   ],
   "source": [
    "#使用均方误差用于评价模型好坏\n",
    "from sklearn.metrics import mean_squared_error\n",
    "#输入数据进行预测得到结果\n",
    "preds = LR_reg.predict(scalar_train_data)\n",
    "#使用均方误差来评价模型好坏，可以输出mse进行查看评价值\n",
    "mse = mean_squared_error(preds,target)\n",
    "print(mse)"
   ]
  },
  {
   "cell_type": "code",
   "execution_count": 48,
   "metadata": {},
   "outputs": [
    {
     "data": {
      "image/png": "[encoded data removed]",
      "text/plain": [
       "<Figure size 432x288 with 1 Axes>"
      ]
     },
     "metadata": {
      "needs_background": "light"
     },
     "output_type": "display_data"
    }
   ],
   "source": [
    "#绘图进行比较\n",
    "plt.figure()\n",
    "nums=50\n",
    "x = np.arange(1,nums+1)\n",
    "plt.plot(x,target[:nums],label='target')\n",
    "plt.plot(x,preds[:nums],label='preds')\n",
    "plt.legend(loc=\"upper right\")\n",
    "plt.show()\n"
   ]
  },
  {
   "cell_type": "code",
   "execution_count": 46,
   "metadata": {},
   "outputs": [
    {
     "name": "stderr",
     "output_type": "stream",
     "text": [
      "D:\\ProgramData\\Anaconda3\\envs\\gobigger\\lib\\site-packages\\sklearn\\base.py:493: FutureWarning: The feature names should match those that were passed during fit. Starting version 1.2, an error will be raised.\n",
      "Feature names unseen at fit time:\n",
      "- -122.322\n",
      "- 1.1\n",
      "- 1938\n",
      "- 1994\n",
      "- 2\n",
      "- ...\n",
      "Feature names seen at fit time, yet now missing:\n",
      "- -122.113\n",
      "- 1240\n",
      "- 1670\n",
      "- 1974\n",
      "- 2.25\n",
      "- ...\n",
      "\n",
      "  warnings.warn(message, FutureWarning)\n"
     ]
    }
   ],
   "source": [
    "#输出测试数据\n",
    "res = LR_reg.predict(scalar_test_data)\n",
    "df_res = pd.DataFrame(res)\n",
    "df_res.to_csv(\"./美国KingCounty房价预测训练赛/result.csv\")"
   ]
  }
 ],
 "metadata": {
  "kernelspec": {
   "display_name": "Python 3",
   "language": "python",
   "name": "python3"
  },
  "language_info": {
   "codemirror_mode": {
    "name": "ipython",
    "version": 3
   },
   "file_extension": ".py",
   "mimetype": "text/x-python",
   "name": "python",
   "nbconvert_exporter": "python",
   "pygments_lexer": "ipython3",
   "version": "3.8.12"
  }
 },
 "nbformat": 4,
 "nbformat_minor": 0
}
