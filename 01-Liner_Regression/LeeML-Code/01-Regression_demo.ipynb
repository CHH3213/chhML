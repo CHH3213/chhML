{
 "cells": [
  {
   "cell_type": "markdown",
   "metadata": {},
   "source": [
    "现在假设有10个x_data和y_data，x和y之间的关系是y_data=b+w*x_data。b，w都是参数，是需要学习出来的。现在我们来练习用梯度下降找到b和w。"
   ]
  },
  {
   "cell_type": "code",
   "execution_count": 5,
   "metadata": {},
   "outputs": [],
   "source": [
    "import numpy as np\n",
    "import matplotlib.pyplot as plt\n",
    "from pylab import mpl\n",
    "import time\n",
    "\n",
    "# matplotlib没有中文字体，动态解决\n",
    "plt.rcParams['font.sans-serif'] = ['Simhei']  # 显示中文\n",
    "mpl.rcParams['axes.unicode_minus'] = False  # 解决保存图像是负号'-'显示为方块的问题\n"
   ]
  },
  {
   "cell_type": "markdown",
   "metadata": {},
   "source": [
    "## 生成数据"
   ]
  },
  {
   "cell_type": "code",
   "execution_count": 2,
   "metadata": {},
   "outputs": [],
   "source": [
    "x_data = [338., 333., 328., 207., 226., 25., 179., 60., 208., 606.]\n",
    "y_data = [640., 633., 619., 393., 428., 27., 193., 66., 226., 1591.]\n",
    "x_d = np.array(x_data)\n",
    "y_d = np.array(y_data)\n"
   ]
  },
  {
   "cell_type": "code",
   "execution_count": 3,
   "metadata": {},
   "outputs": [],
   "source": [
    "x = np.arange(-200, -100, 1)\n",
    "y = np.arange(-5, 5, 0.1)\n",
    "Z = np.zeros((len(x), len(y)))\n",
    "X, Y = np.meshgrid(x, y)\n"
   ]
  },
  {
   "cell_type": "markdown",
   "metadata": {},
   "source": [
    "## 定义损失"
   ]
  },
  {
   "cell_type": "code",
   "execution_count": 4,
   "metadata": {},
   "outputs": [],
   "source": [
    "# loss\n",
    "for i in range(len(x)):\n",
    "    for j in range(len(y)):\n",
    "        b = x[i]\n",
    "        w = y[j]\n",
    "        Z[j][i] = 0  # meshgrid结果：y为行，x为列\n",
    "        for n in range(len(x_data)):\n",
    "            Z[j][i] += (y_data[n] - b - w * x_data[n]) ** 2\n",
    "        Z[j][i] /= len(x_data)"
   ]
  },
  {
   "cell_type": "markdown",
   "metadata": {},
   "source": [
    "给b和w一个初始值，计算出b和w的偏微分"
   ]
  },
  {
   "cell_type": "code",
   "execution_count": 22,
   "metadata": {},
   "outputs": [
    {
     "name": "stdout",
     "output_type": "stream",
     "text": [
      "Step 0, w: 1.8648, b: -1.9952, Loss: 413789.3821\n",
      "Step 10000, w: 2.1484, b: -7.1183, Loss: 19355.2329\n",
      "Step 20000, w: 2.1627, b: -12.1013, Loss: 18858.5836\n",
      "Step 30000, w: 2.1766, b: -16.9474, Loss: 18388.8578\n",
      "Step 40000, w: 2.1902, b: -21.6603, Loss: 17944.5958\n",
      "Step 50000, w: 2.2034, b: -26.2436, Loss: 17524.4173\n",
      "Step 60000, w: 2.2162, b: -30.7010, Loss: 17127.0167\n",
      "Step 70000, w: 2.2286, b: -35.0359, Loss: 16751.1593\n",
      "Step 80000, w: 2.2407, b: -39.2517, Loss: 16395.6772\n",
      "Step 90000, w: 2.2525, b: -43.3516, Loss: 16059.4658\n",
      "Step 100000, w: 2.2640, b: -47.3389, Loss: 15741.4804\n",
      "Step 110000, w: 2.2751, b: -51.2165, Loss: 15440.7331\n",
      "Step 120000, w: 2.2860, b: -54.9876, Loss: 15156.2893\n",
      "Step 130000, w: 2.2965, b: -58.6551, Loss: 14887.2653\n",
      "Step 140000, w: 2.3067, b: -62.2217, Loss: 14632.8251\n",
      "Step 150000, w: 2.3167, b: -65.6903, Loss: 14392.1781\n",
      "Step 160000, w: 2.3264, b: -69.0637, Loss: 14164.5766\n",
      "Step 170000, w: 2.3358, b: -72.3442, Loss: 13949.3134\n",
      "Step 180000, w: 2.3450, b: -75.5347, Loss: 13745.7197\n",
      "Step 190000, w: 2.3539, b: -78.6374, Loss: 13553.1628\n",
      "Step 200000, w: 2.3626, b: -81.6549, Loss: 13371.0444\n",
      "Step 210000, w: 2.3710, b: -84.5895, Loss: 13198.7988\n",
      "Step 220000, w: 2.3792, b: -87.4434, Loss: 13035.8905\n",
      "Step 230000, w: 2.3872, b: -90.2189, Loss: 12881.8136\n",
      "Step 240000, w: 2.3950, b: -92.9181, Loss: 12736.0891\n",
      "Step 250000, w: 2.4025, b: -95.5431, Loss: 12598.2644\n",
      "Step 260000, w: 2.4098, b: -98.0960, Loss: 12467.9112\n",
      "Step 270000, w: 2.4170, b: -100.5787, Loss: 12344.6245\n",
      "Step 280000, w: 2.4239, b: -102.9931, Loss: 12228.0211\n",
      "Step 290000, w: 2.4307, b: -105.3413, Loss: 12117.7389\n",
      "Step 300000, w: 2.4372, b: -107.6249, Loss: 12013.4350\n",
      "Step 310000, w: 2.4436, b: -109.8457, Loss: 11914.7855\n",
      "Step 320000, w: 2.4498, b: -112.0055, Loss: 11821.4838\n",
      "Step 330000, w: 2.4559, b: -114.1059, Loss: 11733.2400\n",
      "Step 340000, w: 2.4617, b: -116.1486, Loss: 11649.7798\n",
      "Step 350000, w: 2.4674, b: -118.1352, Loss: 11570.8441\n",
      "Step 360000, w: 2.4730, b: -120.0672, Loss: 11496.1875\n",
      "Step 370000, w: 2.4784, b: -121.9461, Loss: 11425.5780\n",
      "Step 380000, w: 2.4836, b: -123.7733, Loss: 11358.7963\n",
      "Step 390000, w: 2.4887, b: -125.5504, Loss: 11295.6348\n",
      "Step 400000, w: 2.4937, b: -127.2785, Loss: 11235.8973\n",
      "Step 410000, w: 2.4985, b: -128.9592, Loss: 11179.3982\n",
      "Step 420000, w: 2.5032, b: -130.5937, Loss: 11125.9619\n",
      "Step 430000, w: 2.5078, b: -132.1833, Loss: 11075.4224\n",
      "Step 440000, w: 2.5122, b: -133.7292, Loss: 11027.6227\n",
      "Step 450000, w: 2.5166, b: -135.2326, Loss: 10982.4142\n",
      "Step 460000, w: 2.5208, b: -136.6947, Loss: 10939.6564\n",
      "Step 470000, w: 2.5249, b: -138.1167, Loss: 10899.2166\n",
      "Step 480000, w: 2.5288, b: -139.4995, Loss: 10860.9690\n",
      "Step 490000, w: 2.5327, b: -140.8443, Loss: 10824.7948\n",
      "Step 500000, w: 2.5365, b: -142.1522, Loss: 10790.5816\n",
      "Step 510000, w: 2.5401, b: -143.4241, Loss: 10758.2231\n",
      "Step 520000, w: 2.5437, b: -144.6611, Loss: 10727.6188\n",
      "Step 530000, w: 2.5471, b: -145.8641, Loss: 10698.6735\n",
      "Step 540000, w: 2.5505, b: -147.0340, Loss: 10671.2974\n",
      "Step 550000, w: 2.5538, b: -148.1717, Loss: 10645.4053\n",
      "Step 560000, w: 2.5569, b: -149.2782, Loss: 10620.9168\n",
      "Step 570000, w: 2.5600, b: -150.3543, Loss: 10597.7559\n",
      "Step 580000, w: 2.5630, b: -151.4008, Loss: 10575.8505\n",
      "Step 590000, w: 2.5660, b: -152.4186, Loss: 10555.1326\n",
      "Step 600000, w: 2.5688, b: -153.4084, Loss: 10535.5378\n",
      "Step 610000, w: 2.5716, b: -154.3709, Loss: 10517.0053\n",
      "Step 620000, w: 2.5743, b: -155.3071, Loss: 10499.4774\n",
      "Step 630000, w: 2.5769, b: -156.2175, Loss: 10482.8997\n",
      "Step 640000, w: 2.5794, b: -157.1028, Loss: 10467.2207\n",
      "Step 650000, w: 2.5819, b: -157.9639, Loss: 10452.3916\n",
      "Step 660000, w: 2.5843, b: -158.8013, Loss: 10438.3665\n",
      "Step 670000, w: 2.5866, b: -159.6156, Loss: 10425.1016\n",
      "Step 680000, w: 2.5889, b: -160.4076, Loss: 10412.5558\n",
      "Step 690000, w: 2.5911, b: -161.1778, Loss: 10400.6902\n",
      "Step 700000, w: 2.5933, b: -161.9269, Loss: 10389.4677\n",
      "Step 710000, w: 2.5954, b: -162.6553, Loss: 10378.8537\n",
      "Step 720000, w: 2.5974, b: -163.3638, Loss: 10368.8150\n",
      "Step 730000, w: 2.5994, b: -164.0528, Loss: 10359.3205\n",
      "Step 740000, w: 2.6013, b: -164.7228, Loss: 10350.3408\n",
      "Step 750000, w: 2.6032, b: -165.3744, Loss: 10341.8478\n",
      "Step 760000, w: 2.6050, b: -166.0081, Loss: 10333.8152\n",
      "Step 770000, w: 2.6068, b: -166.6244, Loss: 10326.2181\n",
      "Step 780000, w: 2.6085, b: -167.2238, Loss: 10319.0328\n",
      "Step 790000, w: 2.6102, b: -167.8067, Loss: 10312.2370\n",
      "Step 800000, w: 2.6118, b: -168.3736, Loss: 10305.8097\n",
      "Step 810000, w: 2.6134, b: -168.9249, Loss: 10299.7307\n",
      "Step 820000, w: 2.6149, b: -169.4610, Loss: 10293.9813\n",
      "Step 830000, w: 2.6164, b: -169.9824, Loss: 10288.5436\n",
      "Step 840000, w: 2.6179, b: -170.4895, Loss: 10283.4006\n",
      "Step 850000, w: 2.6193, b: -170.9826, Loss: 10278.5365\n",
      "Step 860000, w: 2.6207, b: -171.4622, Loss: 10273.9360\n",
      "Step 870000, w: 2.6220, b: -171.9286, Loss: 10269.5850\n",
      "Step 880000, w: 2.6233, b: -172.3822, Loss: 10265.4698\n",
      "Step 890000, w: 2.6246, b: -172.8233, Loss: 10261.5777\n",
      "Step 900000, w: 2.6258, b: -173.2523, Loss: 10257.8965\n",
      "Step 910000, w: 2.6270, b: -173.6696, Loss: 10254.4150\n",
      "Step 920000, w: 2.6282, b: -174.0753, Loss: 10251.1221\n",
      "Step 930000, w: 2.6293, b: -174.4699, Loss: 10248.0078\n",
      "Step 940000, w: 2.6304, b: -174.8536, Loss: 10245.0623\n",
      "Step 950000, w: 2.6315, b: -175.2269, Loss: 10242.2765\n",
      "Step 960000, w: 2.6325, b: -175.5898, Loss: 10239.6417\n",
      "Step 970000, w: 2.6336, b: -175.9428, Loss: 10237.1497\n",
      "Step 980000, w: 2.6345, b: -176.2860, Loss: 10234.7928\n",
      "Step 990000, w: 2.6355, b: -176.6199, Loss: 10232.5637\n",
      "Step 1000000, w: 2.6364, b: -176.9445, Loss: 10230.4555\n",
      "Step 1010000, w: 2.6373, b: -177.2603, Loss: 10228.4615\n",
      "Step 1020000, w: 2.6382, b: -177.5673, Loss: 10226.5756\n",
      "Step 1030000, w: 2.6391, b: -177.8660, Loss: 10224.7919\n",
      "Step 1040000, w: 2.6399, b: -178.1564, Loss: 10223.1050\n",
      "Step 1050000, w: 2.6407, b: -178.4388, Loss: 10221.5095\n",
      "Step 1060000, w: 2.6415, b: -178.7135, Loss: 10220.0004\n",
      "Step 1070000, w: 2.6423, b: -178.9806, Loss: 10218.5732\n",
      "Step 1080000, w: 2.6430, b: -179.2404, Loss: 10217.2234\n",
      "Step 1090000, w: 2.6438, b: -179.4930, Loss: 10215.9467\n",
      "Step 1100000, w: 2.6445, b: -179.7387, Loss: 10214.7393\n",
      "Step 1110000, w: 2.6452, b: -179.9777, Loss: 10213.5972\n",
      "Step 1120000, w: 2.6458, b: -180.2101, Loss: 10212.5172\n",
      "Step 1130000, w: 2.6465, b: -180.4361, Loss: 10211.4956\n",
      "Step 1140000, w: 2.6471, b: -180.6558, Loss: 10210.5294\n",
      "Step 1150000, w: 2.6477, b: -180.8696, Loss: 10209.6157\n",
      "Step 1160000, w: 2.6483, b: -181.0775, Loss: 10208.7514\n",
      "Step 1170000, w: 2.6489, b: -181.2796, Loss: 10207.9340\n",
      "Step 1180000, w: 2.6495, b: -181.4762, Loss: 10207.1609\n",
      "Step 1190000, w: 2.6500, b: -181.6674, Loss: 10206.4297\n",
      "Step 1200000, w: 2.6505, b: -181.8533, Loss: 10205.7382\n",
      "Step 1210000, w: 2.6511, b: -182.0342, Loss: 10205.0841\n",
      "Step 1220000, w: 2.6516, b: -182.2100, Loss: 10204.4655\n",
      "Step 1230000, w: 2.6521, b: -182.3811, Loss: 10203.8805\n",
      "Step 1240000, w: 2.6525, b: -182.5474, Loss: 10203.3271\n",
      "Step 1250000, w: 2.6530, b: -182.7092, Loss: 10202.8038\n",
      "Step 1260000, w: 2.6535, b: -182.8665, Loss: 10202.3088\n",
      "Step 1270000, w: 2.6539, b: -183.0195, Loss: 10201.8406\n",
      "Step 1280000, w: 2.6543, b: -183.1682, Loss: 10201.3979\n",
      "Step 1290000, w: 2.6547, b: -183.3129, Loss: 10200.9791\n",
      "Step 1300000, w: 2.6551, b: -183.4537, Loss: 10200.5830\n",
      "Step 1310000, w: 2.6555, b: -183.5905, Loss: 10200.2084\n",
      "Step 1320000, w: 2.6559, b: -183.7236, Loss: 10199.8542\n",
      "Step 1330000, w: 2.6563, b: -183.8530, Loss: 10199.5191\n",
      "Step 1340000, w: 2.6567, b: -183.9789, Loss: 10199.2022\n",
      "Step 1350000, w: 2.6570, b: -184.1013, Loss: 10198.9024\n",
      "Step 1360000, w: 2.6573, b: -184.2204, Loss: 10198.6189\n",
      "Step 1370000, w: 2.6577, b: -184.3362, Loss: 10198.3508\n",
      "Step 1380000, w: 2.6580, b: -184.4488, Loss: 10198.0972\n",
      "Step 1390000, w: 2.6583, b: -184.5583, Loss: 10197.8574\n",
      "大约需要时间： 27.240347623825073\n"
     ]
    }
   ],
   "source": [
    "b=-2\n",
    "w=0.01\n",
    "lr =0.000005\n",
    "\n",
    "iteration = 1400000\n",
    "\n",
    "b_history = [b]\n",
    "w_history = [w]\n",
    "loss_history = []\n",
    "\n",
    "start = time.time()\n",
    "\n",
    "for i in range(iteration):\n",
    "    m = float(len(x_d))\n",
    "    y_hat = w*x_d+b\n",
    "    loss = np.dot(y_d-y_hat,y_d-y_hat)/m\n",
    "    grad_b = -2.0 * np.sum(y_d - y_hat) / m\n",
    "    grad_w = -2.0 * np.dot(y_d - y_hat, x_d) / m\n",
    "    # update param\n",
    "    b -= lr * grad_b\n",
    "    w -= lr * grad_w\n",
    "\n",
    "    b_history.append(b)\n",
    "    w_history.append(w)\n",
    "    loss_history.append(loss)\n",
    "    if i % 10000 == 0:\n",
    "        print(\"Step %i, w: %0.4f, b: %.4f, Loss: %.4f\" % (i, w, b, loss))\n",
    "end = time.time()\n",
    "print(\"大约需要时间：\",end-start)"
   ]
  },
  {
   "cell_type": "markdown",
   "metadata": {},
   "source": [
    "## 画图"
   ]
  },
  {
   "cell_type": "code",
   "execution_count": 23,
   "metadata": {},
   "outputs": [
    {
     "data": {
      "image/png": "[encoded data removed]",
      "text/plain": [
       "<Figure size 432x288 with 1 Axes>"
      ]
     },
     "metadata": {
      "needs_background": "light"
     },
     "output_type": "display_data"
    }
   ],
   "source": [
    "# plot the figure\n",
    "plt.contourf(x, y, Z, 50, alpha=0.5, cmap=plt.get_cmap('jet'))  # 填充等高线\n",
    "plt.plot([-188.4], [2.67], 'x', ms=12, mew=3, color=\"orange\")\n",
    "plt.plot(b_history, w_history, 'o-', ms=3, lw=1.5, color='black')\n",
    "plt.xlim(-200, -100)\n",
    "plt.ylim(-5, 5)\n",
    "plt.xlabel(r'$b$')\n",
    "plt.ylabel(r'$w$')\n",
    "plt.title(\"线性回归\")\n",
    "plt.show()"
   ]
  }
 ],
 "metadata": {
  "interpreter": {
   "hash": "232f66ea714acf063792c091ef59ab4fef0f08291e88ae72d9c0d0d8efc52143"
  },
  "kernelspec": {
   "display_name": "Python 3.8.12 ('gobigger')",
   "language": "python",
   "name": "python3"
  },
  "language_info": {
   "codemirror_mode": {
    "name": "ipython",
    "version": 3
   },
   "file_extension": ".py",
   "mimetype": "text/x-python",
   "name": "python",
   "nbconvert_exporter": "python",
   "pygments_lexer": "ipython3",
   "version": "3.8.12"
  },
  "orig_nbformat": 4
 },
 "nbformat": 4,
 "nbformat_minor": 2
}
